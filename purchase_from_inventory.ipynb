{
  "nbformat": 4,
  "nbformat_minor": 0,
  "metadata": {
    "colab": {
      "name": "inventory_management_system.ipynb",
      "provenance": []
    },
    "kernelspec": {
      "name": "python3",
      "display_name": "Python 3"
    },
    "language_info": {
      "name": "python"
    }
  },
  "cells": [
    {
      "cell_type": "code",
      "metadata": {
        "id": "mxGCZtxbKY-I"
      },
      "source": [
        "import json"
      ],
      "execution_count": null,
      "outputs": []
    },
    {
      "cell_type": "code",
      "metadata": {
        "id": "Y3-4uaACLh2u"
      },
      "source": [
        "\n",
        "fdread=open(\"item_records.json\",\"r\")\n",
        "txt=fdread.read()\n",
        "fdread.close()\n"
      ],
      "execution_count": null,
      "outputs": []
    },
    {
      "cell_type": "markdown",
      "metadata": {
        "id": "Ju4bciX_a2Cm"
      },
      "source": [
        "**Converting Json String to dictionary**"
      ]
    },
    {
      "cell_type": "code",
      "metadata": {
        "id": "57D0-pFlPfDN"
      },
      "source": [
        "record=json.loads(txt)"
      ],
      "execution_count": null,
      "outputs": []
    },
    {
      "cell_type": "code",
      "metadata": {
        "id": "ht3u2SxSZACh"
      },
      "source": [
        "import time"
      ],
      "execution_count": null,
      "outputs": []
    },
    {
      "cell_type": "markdown",
      "metadata": {
        "id": "Bd4s7Y1MaPKM"
      },
      "source": [
        "**Input name of customer and no.of items he/she wants to buy**"
      ]
    },
    {
      "cell_type": "code",
      "metadata": {
        "id": "3_fWPFYtNBIL"
      },
      "source": [
        "list_for_tracking_sales=[]\n",
        " #accessing name,price,and quantity present for the product id"
      ],
      "execution_count": null,
      "outputs": []
    },
    {
      "cell_type": "code",
      "metadata": {
        "colab": {
          "base_uri": "https://localhost:8080/"
        },
        "id": "E1rV8WGIPIrq",
        "outputId": "5c76d383-9d02-4fe0-8fae-0939f5114c54"
      },
      "source": [
        "customer_name=input(\"Enter name of Customer:\")\n",
        "n=int(input(f\"Enter the no.of Items {customer_name} wants to buy:\"))"
      ],
      "execution_count": null,
      "outputs": [
        {
          "name": "stdout",
          "output_type": "stream",
          "text": [
            "Enter name of Customer:Shraddha Verma\n",
            "Enter the no.of Items Shraddha Verma wants to buy:10\n"
          ]
        }
      ]
    },
    {
      "cell_type": "markdown",
      "metadata": {
        "id": "J9z89BxHae5s"
      },
      "source": [
        "**The Billing Code**"
      ]
    },
    {
      "cell_type": "code",
      "metadata": {
        "id": "Mh2Cq8cSMHXK",
        "colab": {
          "base_uri": "https://localhost:8080/"
        },
        "outputId": "877db783-b47a-4888-9986-0d4bfe047bda"
      },
      "source": [
        "\n",
        "\n",
        "local_time = time.ctime()\n",
        "\n",
        "itemno=1\n",
        "totalbill=0       #total billing amount will be saved in this variable\n",
        "while (itemno<=n):\n",
        "  product_id= int(input(\"Enter Product Id:\"))\n",
        "  product_quantity=int(input(\"Enter Product quantity:\"))\n",
        "  \n",
        "  name=(record[str(product_id)][\"Name\"])\n",
        "  price=record[str(product_id)][\"Price\"]\n",
        "  quant=record[str(product_id)][\"Quantity\"]\n",
        "  for it in range(0,product_quantity):\n",
        "    list_for_tracking_sales.append(product_id)\n",
        "\n",
        "  #manipulating the data provided by customer, by applying discounts to the price of items he/she bought in total\n",
        "\n",
        "  if(product_quantity<=(record[str(product_id)][\"Quantity\"])):\n",
        "    record[str(product_id)][\"Quantity\"]=(record[str(product_id)][\"Quantity\"])-product_quantity\n",
        "    item_cost=(record[str(product_id)][\"Price\"]*product_quantity)\n",
        "    \n",
        "    totalbill+=item_cost\n",
        "    \n",
        "   \n",
        " \n",
        "\n",
        "\n",
        "    if(itemno==1):\n",
        "      bill=open(\"bill.txt\",\"w\")\n",
        "      bill.write(f\"{customer_name}\\t\\t\\t\\t\\t\\t\\t\")\n",
        "      bill.write(f\"{local_time}\\n\")\n",
        "\n",
        "\n",
        "      bill.write(\"***********************************************\\n\")\n",
        "      bill.write(\"Product Name\\t\\t\\t\\t\\t\")\n",
        "      bill.write(\"Price\\t\\t\\t\\t\\t\")\n",
        "      bill.write(\"Quantity\\t\\t\\t\\t\\t\")\n",
        "      \n",
        "      bill.write(\"Final amount\\n\")\n",
        "\n",
        "      bill.write(f\"{name}\\t\\t\\t\\t\\t\\t\\t\\t\")\n",
        "      bill.write(f\"{price}\\t\\t\\t\\t\\t\\t\\t\\t\")\n",
        "      bill.write(f\"{product_quantity}\\t\\t\\t\\t\\t\\t\\t\\t\")\n",
        "      \n",
        "      bill.write(f\"{item_cost}\\n\")\n",
        "      bill.close()\n",
        "    elif(itemno>1 and itemno<n):\n",
        "      bill=open(\"bill.txt\",\"a\")\n",
        "      bill.write(f\"{name}\\t\\t\\t\\t\\t\\t\\t\\t\")\n",
        "      bill.write(f\"{price}\\t\\t\\t\\t\\t\\t\\t\\t\\t\")\n",
        "      bill.write(f\"{product_quantity}\\t\\t\\t\\t\\t\\t\\t\\t\")\n",
        "     \n",
        "      bill.write(f\"{item_cost}\\n\")\n",
        "      bill.close()\n",
        "    else:\n",
        "      bill=open(\"bill.txt\",\"a\")\n",
        "      bill.write(f\"{name}\\t\\t\\t\\t\\t\\t\\t\\t\")\n",
        "      bill.write(f\"{price}\\t\\t\\t\\t\\t\\t\\t\\t\\t\")\n",
        "      bill.write(f\"{product_quantity}\\t\\t\\t\\t\\t\\t\\t\\t\")\n",
        "      \n",
        "      bill.write(f\"{item_cost}\\n\")\n",
        "      bill.write(\"*********************************************\\n\")\n",
        "      bill.write(f\"Your total bill is {totalbill}\\n\")\n",
        "      bill.close()  \n",
        "  itemno+=1"
      ],
      "execution_count": null,
      "outputs": [
        {
          "name": "stdout",
          "output_type": "stream",
          "text": [
            "Enter Product Id:1003\n",
            "Enter Product quantity:3\n",
            "Enter Product Id:1015\n",
            "Enter Product quantity:15\n",
            "Enter Product Id:1019\n",
            "Enter Product quantity:19\n",
            "Enter Product Id:1011\n",
            "Enter Product quantity:11\n",
            "Enter Product Id:1018\n",
            "Enter Product quantity:18\n",
            "Enter Product Id:1030\n",
            "Enter Product quantity:30\n",
            "Enter Product Id:1016\n",
            "Enter Product quantity:5\n",
            "Enter Product Id:1022\n",
            "Enter Product quantity:5\n",
            "Enter Product Id:1012\n",
            "Enter Product quantity:29\n",
            "Enter Product Id:1013\n",
            "Enter Product quantity:2\n"
          ]
        }
      ]
    },
    {
      "cell_type": "markdown",
      "metadata": {
        "id": "kmX4BzjtONbh"
      },
      "source": [
        "**You will get the bill with the name of customer, day, date and time and final amount in bill.txt in order to give a print to the customer**"
      ]
    },
    {
      "cell_type": "markdown",
      "metadata": {
        "id": "87PspgShbEkK"
      },
      "source": [
        "**The Sales Code**"
      ]
    },
    {
      "cell_type": "code",
      "metadata": {
        "id": "4o_iRfZkpa1D"
      },
      "source": [
        "pricing_sales=0\n",
        "j=1001    \n",
        "while(j<1031):\n",
        "    \n",
        "    name1=(record[str(j)][\"Name\"])\n",
        "    \n",
        "    item_price=0\n",
        "    countt=list_for_tracking_sales.count(j)\n",
        "    pricing_sales+= record[str(j)][\"Price\"]*countt\n",
        "    \n",
        "    item_price=(record[str(j)][\"Price\"]*countt)\n",
        "    \n",
        "    if (countt>0):\n",
        "      sales=open(\"sales.txt\",\"a\")\n",
        "      sales.write(f\"Product name: {name1} - Quantity bought:{countt+1} - Price:{item_price} \\n\")\n",
        "      sales.close()\n",
        "    \n",
        "\n",
        "    if(j==1030):\n",
        "        sales=open(\"sales.txt\",\"a\")\n",
        "        sales.write(\"**************************************************************************\\n\")\n",
        "        sales.write(f\"Sales generated on {local_time} is of Rs- {pricing_sales} \\n\")\n",
        "        sales.write(\"**************************************************************************\\n\")\n",
        "        sales.close()\n",
        "\n",
        "    j+=1"
      ],
      "execution_count": null,
      "outputs": []
    },
    {
      "cell_type": "markdown",
      "metadata": {
        "id": "6Z4kK0UPO6mm"
      },
      "source": [
        "**The sales for the day will be recorded in sales.txt file to keep a track of items sold**"
      ]
    },
    {
      "cell_type": "markdown",
      "metadata": {
        "id": "93JZA2IfGeC3"
      },
      "source": [
        "**Coverting dictionary back to json string to add the data into item_records.json**"
      ]
    },
    {
      "cell_type": "code",
      "metadata": {
        "id": "eJ_hYGeyFSSg"
      },
      "source": [
        "back_json=json.dumps(record)\n",
        "fd=open(\"item_records.json\",\"w\")\n",
        "fd.write(back_json)\n",
        "fd.close()"
      ],
      "execution_count": null,
      "outputs": []
    },
    {
      "cell_type": "markdown",
      "metadata": {
        "id": "8QJG0oniqUGk"
      },
      "source": [
        "**Making the list elements zero for the list that tracks the sales for the day to start over tracking the sales freshly for the next day**"
      ]
    },
    {
      "cell_type": "code",
      "metadata": {
        "id": "Gz50i-aUIXHu"
      },
      "source": [
        "list_for_tracking_sales=[] "
      ],
      "execution_count": null,
      "outputs": []
    },
    {
      "cell_type": "code",
      "metadata": {
        "id": "It_vBCB9KbyZ"
      },
      "source": [
        ""
      ],
      "execution_count": null,
      "outputs": []
    }
  ]
}