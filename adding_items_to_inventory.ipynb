{
  "nbformat": 4,
  "nbformat_minor": 0,
  "metadata": {
    "colab": {
      "name": "adding_items_.ipynb",
      "provenance": []
    },
    "kernelspec": {
      "name": "python3",
      "display_name": "Python 3"
    },
    "language_info": {
      "name": "python"
    }
  },
  "cells": [
    {
      "cell_type": "code",
      "metadata": {
        "id": "3zTZCSRkTUwr"
      },
      "source": [
        "items={1001:{\"Name\":\"Rice\",\"Price\":67,\"Quantity\":100,\"Expiry\":None},\n",
        "       1002:{\"Name\":\"Dal\",\"Price\":57,\"Quantity\":110,\"Expiry\":None},\n",
        "       1003:{\"Name\":\"Sugar\",\"Price\":80,\"Quantity\":200,\"Expiry\":None},\n",
        "       1004:{\"Name\":\"Biscuit\",\"Price\":10,\"Quantity\":300,\"Expiry\":None},\n",
        "       1005:{\"Name\":\"Rajma\",\"Price\":50,\"Quantity\":100,\"Expiry\":None},\n",
        "       1006:{\"Name\":\"Shampoo\",\"Price\":150,\"Quantity\":100,\"Expiry\":2025},\n",
        "       1007:{\"Name\":\"Livon Serum\",\"Price\":250,\"Quantity\":100,\"Expiry\":2024},\n",
        "       1008:{\"Name\":\"Ketchup\",\"Price\":125,\"Quantity\":100,\"Expiry\":2023},\n",
        "       1009:{\"Name\":\"Wheat\",\"Price\":42,\"Quantity\":100,\"Expiry\":None},\n",
        "       1010:{\"Name\":\"Noodles\",\"Price\":55,\"Quantity\":100,\"Expiry\":None},\n",
        "       1011:{\"Name\":\"Pasta\",\"Price\":68,\"Quantity\":100,\"Expiry\":None},\n",
        "       1012:{\"Name\":\"Refined Oil\",\"Price\":110,\"Quantity\":100,\"Expiry\":None},\n",
        "       1013:{\"Name\":\"Hair oil\",\"Price\":70,\"Quantity\":100,\"Expiry\":2023},\n",
        "       1014:{\"Name\":\"Almonds\",\"Price\":200,\"Quantity\":100,\"Expiry\":None},\n",
        "       1015:{\"Name\":\"Raisins\",\"Price\":170,\"Quantity\":100,\"Expiry\":None},\n",
        "       1016:{\"Name\":\"Poha\",\"Price\":65,\"Quantity\":100,\"Expiry\":None},\n",
        "       1017:{\"Name\":\"Suji\",\"Price\":35,\"Quantity\":100,\"Expiry\":None},\n",
        "       1018:{\"Name\":\"Besan\",\"Price\":40,\"Quantity\":100,\"Expiry\":None},\n",
        "       1019:{\"Name\":\"Chole\",\"Price\":80,\"Quantity\":100,\"Expiry\":None},\n",
        "       1020:{\"Name\":\"Milk\",\"Price\":48,\"Quantity\":100,\"Expiry\":\"2 days\"},\n",
        "       1021:{\"Name\":\"Paneer\",\"Price\":250,\"Quantity\":100,\"Expiry\":\"3 days\"},\n",
        "       1022:{\"Name\":\"Icecream\",\"Price\":100,\"Quantity\":100,\"Expiry\":None},\n",
        "       1023:{\"Name\":\"Dark Chocolate\",\"Price\":67,\"Quantity\":100,\"Expiry\":2022},\n",
        "       1024:{\"Name\":\"Oregano\",\"Price\":80,\"Quantity\":100,\"Expiry\":2023},\n",
        "       1025:{\"Name\":\"Chilliflakes\",\"Price\":90,\"Quantity\":100,\"Expiry\":None},\n",
        "       1026:{\"Name\":\"Soyabean\",\"Price\":100,\"Quantity\":100,\"Expiry\":None},\n",
        "       1027:{\"Name\":\"Cheese\",\"Price\":15,\"Quantity\":100,\"Expiry\":2023},\n",
        "       1028:{\"Name\":\"Papad\",\"Price\":50,\"Quantity\":100,\"Expiry\":None},\n",
        "       1029:{\"Name\":\"Facewash\",\"Price\":100,\"Quantity\":100,\"Expiry\":2022},\n",
        "       1030:{\"Name\":\"Soap\",\"Price\":120,\"Quantity\":100,\"Expiry\":None}\n",
        "       }"
      ],
      "execution_count": 1,
      "outputs": []
    },
    {
      "cell_type": "markdown",
      "metadata": {
        "id": "sjEuMGioWy0S"
      },
      "source": [
        "**Input details about the product you want to add in the inventory**"
      ]
    },
    {
      "cell_type": "code",
      "metadata": {
        "colab": {
          "base_uri": "https://localhost:8080/"
        },
        "id": "Jo-oaGrwUsTV",
        "outputId": "fdfa4d38-f4b5-47de-9a73-de6d096996d7"
      },
      "source": [
        "product_id=int(input(\"Enter product id: \"))\n",
        "name1=str(input(\"Enter product name: \"))\n",
        "pr=int(input(\"Enter product price: \"))\n",
        "quant=int(input(\"Enter product quantity: \"))\n",
        "expiry=int(input(\"Enter product expiry: \"))\n"
      ],
      "execution_count": 2,
      "outputs": [
        {
          "name": "stdout",
          "output_type": "stream",
          "text": [
            "Enter product id: 1031\n",
            "Enter product name: Toothpaste\n",
            "Enter product price: 70\n",
            "Enter product quantity: 100\n",
            "Enter product expiry: 2023\n"
          ]
        }
      ]
    },
    {
      "cell_type": "markdown",
      "metadata": {
        "id": "pct8Emf5W9hW"
      },
      "source": [
        "**Adding the Item in the Inventory**"
      ]
    },
    {
      "cell_type": "code",
      "metadata": {
        "id": "feuKYutMVq3b"
      },
      "source": [
        "items[product_id]={\"Name\":name1,\"Price\":pr,\"Quantity\":quant,\"Expiry\":expiry}"
      ],
      "execution_count": 3,
      "outputs": []
    },
    {
      "cell_type": "markdown",
      "metadata": {
        "id": "hVhgJ5bXXGj6"
      },
      "source": [
        "**Displaying items in the dictionary to check whether the new product is added or not**"
      ]
    },
    {
      "cell_type": "code",
      "metadata": {
        "colab": {
          "base_uri": "https://localhost:8080/"
        },
        "id": "W__5pFPlWpbp",
        "outputId": "8519703c-972c-4579-c037-79d8e38b01c0"
      },
      "source": [
        "items"
      ],
      "execution_count": 4,
      "outputs": [
        {
          "output_type": "execute_result",
          "data": {
            "text/plain": [
              "{1001: {'Expiry': None, 'Name': 'Rice', 'Price': 67, 'Quantity': 100},\n",
              " 1002: {'Expiry': None, 'Name': 'Dal', 'Price': 57, 'Quantity': 110},\n",
              " 1003: {'Expiry': None, 'Name': 'Sugar', 'Price': 80, 'Quantity': 200},\n",
              " 1004: {'Expiry': None, 'Name': 'Biscuit', 'Price': 10, 'Quantity': 300},\n",
              " 1005: {'Expiry': None, 'Name': 'Rajma', 'Price': 50, 'Quantity': 100},\n",
              " 1006: {'Expiry': 2025, 'Name': 'Shampoo', 'Price': 150, 'Quantity': 100},\n",
              " 1007: {'Expiry': 2024, 'Name': 'Livon Serum', 'Price': 250, 'Quantity': 100},\n",
              " 1008: {'Expiry': 2023, 'Name': 'Ketchup', 'Price': 125, 'Quantity': 100},\n",
              " 1009: {'Expiry': None, 'Name': 'Wheat', 'Price': 42, 'Quantity': 100},\n",
              " 1010: {'Expiry': None, 'Name': 'Noodles', 'Price': 55, 'Quantity': 100},\n",
              " 1011: {'Expiry': None, 'Name': 'Pasta', 'Price': 68, 'Quantity': 100},\n",
              " 1012: {'Expiry': None, 'Name': 'Refined Oil', 'Price': 110, 'Quantity': 100},\n",
              " 1013: {'Expiry': 2023, 'Name': 'Hair oil', 'Price': 70, 'Quantity': 100},\n",
              " 1014: {'Expiry': None, 'Name': 'Almonds', 'Price': 200, 'Quantity': 100},\n",
              " 1015: {'Expiry': None, 'Name': 'Raisins', 'Price': 170, 'Quantity': 100},\n",
              " 1016: {'Expiry': None, 'Name': 'Poha', 'Price': 65, 'Quantity': 100},\n",
              " 1017: {'Expiry': None, 'Name': 'Suji', 'Price': 35, 'Quantity': 100},\n",
              " 1018: {'Expiry': None, 'Name': 'Besan', 'Price': 40, 'Quantity': 100},\n",
              " 1019: {'Expiry': None, 'Name': 'Chole', 'Price': 80, 'Quantity': 100},\n",
              " 1020: {'Expiry': '2 days', 'Name': 'Milk', 'Price': 48, 'Quantity': 100},\n",
              " 1021: {'Expiry': '3 days', 'Name': 'Paneer', 'Price': 250, 'Quantity': 100},\n",
              " 1022: {'Expiry': None, 'Name': 'Icecream', 'Price': 100, 'Quantity': 100},\n",
              " 1023: {'Expiry': 2022,\n",
              "  'Name': 'Dark Chocolate',\n",
              "  'Price': 67,\n",
              "  'Quantity': 100},\n",
              " 1024: {'Expiry': 2023, 'Name': 'Oregano', 'Price': 80, 'Quantity': 100},\n",
              " 1025: {'Expiry': None, 'Name': 'Chilliflakes', 'Price': 90, 'Quantity': 100},\n",
              " 1026: {'Expiry': None, 'Name': 'Soyabean', 'Price': 100, 'Quantity': 100},\n",
              " 1027: {'Expiry': 2023, 'Name': 'Cheese', 'Price': 15, 'Quantity': 100},\n",
              " 1028: {'Expiry': None, 'Name': 'Papad', 'Price': 50, 'Quantity': 100},\n",
              " 1029: {'Expiry': 2022, 'Name': 'Facewash', 'Price': 100, 'Quantity': 100},\n",
              " 1030: {'Expiry': None, 'Name': 'Soap', 'Price': 120, 'Quantity': 100},\n",
              " 1031: {'Expiry': 2023, 'Name': 'Toothpaste', 'Price': 70, 'Quantity': 100}}"
            ]
          },
          "metadata": {},
          "execution_count": 4
        }
      ]
    },
    {
      "cell_type": "markdown",
      "metadata": {
        "id": "0t864uztXXla"
      },
      "source": [
        "**Product with product_id : 1031 has been added successfully**"
      ]
    },
    {
      "cell_type": "markdown",
      "metadata": {
        "id": "ChSlHMZFXwc2"
      },
      "source": [
        "**Adding the updation into the item_records.json file and using the same file item_records.json file in the purchasing program of the inventory management system**"
      ]
    },
    {
      "cell_type": "code",
      "metadata": {
        "id": "daK57rEBWq1A"
      },
      "source": [
        "import json\n",
        "js_items=json. dumps(items)\n",
        "fd=open(\"item_records.json\",\"w\")\n",
        "fd.write(js_items)\n",
        "fd.close()"
      ],
      "execution_count": 5,
      "outputs": []
    },
    {
      "cell_type": "code",
      "metadata": {
        "id": "i6yV7dsXXrTV"
      },
      "source": [
        ""
      ],
      "execution_count": 5,
      "outputs": []
    }
  ]
}